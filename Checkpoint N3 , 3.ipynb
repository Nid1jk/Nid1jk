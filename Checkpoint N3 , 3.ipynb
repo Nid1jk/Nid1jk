{
 "cells": [
  {
   "cell_type": "code",
   "execution_count": 46,
   "id": "d1c7539e",
   "metadata": {},
   "outputs": [
    {
     "data": {
      "text/plain": [
       "{'a': 700, 'b': 400, 'c': 400, 'd': 150}"
      ]
     },
     "execution_count": 46,
     "metadata": {},
     "output_type": "execute_result"
    }
   ],
   "source": [
    "d1={'a':500,'b':300,'c':400}\n",
    "d2={'a':200,'b':100,'d':150}\n",
    "d3={}\n",
    "for i in d1.keys():\n",
    "    if i in d2:\n",
    "        d3[i]=d1[i]+d2[i]\n",
    "    if i not in d2:\n",
    "        d3[i]=d1[i]\n",
    "for i in d2.keys():\n",
    "    if i not in d1:\n",
    "        d3[i]=d2[i]\n",
    "        \n",
    "        \n",
    "d3      "
   ]
  },
  {
   "cell_type": "code",
   "execution_count": null,
   "id": "8518b0c2",
   "metadata": {},
   "outputs": [],
   "source": []
  },
  {
   "cell_type": "code",
   "execution_count": null,
   "id": "6e4f52ea",
   "metadata": {},
   "outputs": [],
   "source": []
  }
 ],
 "metadata": {
  "kernelspec": {
   "display_name": "Python 3 (ipykernel)",
   "language": "python",
   "name": "python3"
  },
  "language_info": {
   "codemirror_mode": {
    "name": "ipython",
    "version": 3
   },
   "file_extension": ".py",
   "mimetype": "text/x-python",
   "name": "python",
   "nbconvert_exporter": "python",
   "pygments_lexer": "ipython3",
   "version": "3.9.6"
  }
 },
 "nbformat": 4,
 "nbformat_minor": 5
}
